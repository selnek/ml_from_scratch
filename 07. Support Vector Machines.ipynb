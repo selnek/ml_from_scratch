{
 "cells": [
  {
   "cell_type": "markdown",
   "id": "ee170de0-d9fd-4f6d-be46-32db19b58ffa",
   "metadata": {},
   "source": [
    "## Support Vector Machines\n",
    "\n",
    "Support Vector Machines (SVMs) are a popular machine learning algorithm used for both regression and classification tasks. It is a supervised learning algorithm that finds the hyperplane in a high-dimensional space that maximally separates the data points into different classes.\n",
    "\n",
    "The key idea behind SVMs is to find the optimal hyperplane that maximizes the margin between the classes. The margin is defined as the distance between the hyperplane and the closest data points from each class. The SVM algorithm finds the hyperplane that maximizes this margin, which leads to better generalization performance and robustness against noise.\n",
    "\n",
    "In addition to linear SVM, there are also non-linear SVMs that use a kernel function to map the input features into a high-dimensional space. The kernel function allows SVM to handle non-linearly separable data by transforming the input data into a higher dimensional feature space where the data becomes linearly separable.\n",
    "\n",
    "SVMs are widely used in various applications, such as image recognition, text classification, and bioinformatics. SVMs provide a powerful and flexible approach for classification and regression tasks, with good generalization performance and robustness against noise."
   ]
  },
  {
   "cell_type": "code",
   "execution_count": null,
   "id": "72a7a1e3-9051-4c58-a3f5-f8de92474d5b",
   "metadata": {},
   "outputs": [],
   "source": [
    "import numpy as np\n",
    "\n",
    "class SVM:\n",
    "    \n",
    "    def __init__(self, learning_rate=0.001, lambda_par=0.01, n_iters=1000):\n",
    "        self.lr = learning_rate\n",
    "        self.lambda_par = lambda_par\n",
    "        self.n_iters = n_iters\n",
    "        self.weights = None\n",
    "        self.bias = None\n",
    "        \n",
    "    def fit(self, X, y):\n",
    "        n_samples, n_features = X.shape\n",
    "        \n",
    "        y_ = np.where(y <= 0, -1, 1)\n",
    "        self.weights = np.zeros(n_features)\n",
    "        self.bias = 0\n",
    "        \n",
    "        for _ in range(self.n_iters):\n",
    "            for idx, x_i in enumerate(X):\n",
    "                condition = y_[idx]  * (np.dot(x_i, self.weights) - self.bias) >= 1\n",
    "                if condition:\n",
    "                    self.weights -= self.lr * (2 * self.lambda_par * self.weights)\n",
    "                else:\n",
    "                    self.weights -= self.lr * (2 * self.lambda_par * self.weights - np.dot(x_i, y_[idx]))\n",
    "                    self.bias -= self.lr * y_[idx]\n",
    "    \n",
    "    def predict(self, X):\n",
    "        approx = np.dot(X, self.weights) - self.bias\n",
    "        return np.sign(approx)\n",
    "        "
   ]
  },
  {
   "cell_type": "code",
   "execution_count": null,
   "id": "1cef07cb-b664-4fa0-92f5-226ef03119dc",
   "metadata": {},
   "outputs": [],
   "source": [
    "from sklearn.model_selection import train_test_split\n",
    "from sklearn import datasets\n",
    "\n",
    "X, y = datasets.make_blobs(n_samples=50, n_features=2, centers=2, cluster_std=1.05)\n",
    "y = np.where(y == 0, -1, 1)\n",
    "\n",
    "X_train, X_test, y_train, y_test = train_test_split(X, y, test_size=0.2)\n",
    "\n",
    "clf = SVM()\n",
    "clf.fit(X_train, y_train)\n",
    "predictions = clf.predict(X_test)\n",
    "\n",
    "def accuracy(y_true, y_pred):\n",
    "    accuracy = np.sum(y_true == y_pred) / len(y_true)\n",
    "    return accuracy\n",
    "\n",
    "print(\"SVM classification accuracy\", accuracy(y_test, predictions))\n"
   ]
  },
  {
   "cell_type": "code",
   "execution_count": null,
   "id": "ed08bdb7-5257-4f47-9938-cec1a66a9ffa",
   "metadata": {},
   "outputs": [],
   "source": []
  }
 ],
 "metadata": {
  "kernelspec": {
   "display_name": "Python 3 (ipykernel)",
   "language": "python",
   "name": "python3"
  },
  "language_info": {
   "codemirror_mode": {
    "name": "ipython",
    "version": 3
   },
   "file_extension": ".py",
   "mimetype": "text/x-python",
   "name": "python",
   "nbconvert_exporter": "python",
   "pygments_lexer": "ipython3",
   "version": "3.9.7"
  }
 },
 "nbformat": 4,
 "nbformat_minor": 5
}
